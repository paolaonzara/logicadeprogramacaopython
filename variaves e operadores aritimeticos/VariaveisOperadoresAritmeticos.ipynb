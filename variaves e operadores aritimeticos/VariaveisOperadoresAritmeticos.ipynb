{
  "nbformat": 4,
  "nbformat_minor": 0,
  "metadata": {
    "colab": {
      "provenance": [],
      "authorship_tag": "ABX9TyNv8ogYDL8laxHMFMZW3Ab2",
      "include_colab_link": true
    },
    "kernelspec": {
      "name": "python3",
      "display_name": "Python 3"
    },
    "language_info": {
      "name": "python"
    }
  },
  "cells": [
    {
      "cell_type": "markdown",
      "metadata": {
        "id": "view-in-github",
        "colab_type": "text"
      },
      "source": [
        "<a href=\"https://colab.research.google.com/github/paolaonzara/logicadeprogramacaopython/blob/main/variaves%20e%20operadores%20aritimeticos/VariaveisOperadoresAritmeticos.ipynb\" target=\"_parent\"><img src=\"https://colab.research.google.com/assets/colab-badge.svg\" alt=\"Open In Colab\"/></a>"
      ]
    },
    {
      "cell_type": "markdown",
      "source": [
        "# Criando Variaveis"
      ],
      "metadata": {
        "id": "nkovnP1KBeh7"
      }
    },
    {
      "cell_type": "markdown",
      "source": [
        "### Area do Quadrado"
      ],
      "metadata": {
        "id": "YUm7KQRyNzOR"
      }
    },
    {
      "cell_type": "code",
      "execution_count": null,
      "metadata": {
        "colab": {
          "base_uri": "https://localhost:8080/"
        },
        "id": "e7jOlc0FBBKE",
        "outputId": "064b3a38-67eb-4c9d-8d09-85842d1d6116"
      },
      "outputs": [
        {
          "output_type": "stream",
          "name": "stdout",
          "text": [
            "Digite o lado do quadrado: 5\n",
            "A área do Quadrado é:  25.0\n"
          ]
        }
      ],
      "source": [
        "# entrada\n",
        "l = float (input(\"Digite o lado do quadrado: \"))\n",
        "#processamento\n",
        "a = l*l\n",
        "#saida\n",
        "print(\"A área do Quadrado é: \", a)\n"
      ]
    },
    {
      "cell_type": "markdown",
      "source": [
        "### Area do Retangulo\n",
        "\n"
      ],
      "metadata": {
        "id": "Tksd8aQVLJwu"
      }
    },
    {
      "cell_type": "code",
      "source": [
        "#entrada\n",
        "base = float(input(\"digite a base do retangulo\"))\n",
        "alt = float(input(\"Digite a altura do retangulo\"))"
      ],
      "metadata": {
        "colab": {
          "base_uri": "https://localhost:8080/"
        },
        "id": "68MqHYQ2LqSS",
        "outputId": "862e674e-86b2-4338-c1ac-eae1dfe56262"
      },
      "execution_count": null,
      "outputs": [
        {
          "name": "stdout",
          "output_type": "stream",
          "text": [
            "digite a base do retangulo5\n",
            "Digite a altura do retangulo3\n"
          ]
        }
      ]
    },
    {
      "cell_type": "code",
      "source": [
        "#processamento\n",
        "area = base*alt"
      ],
      "metadata": {
        "id": "jGnA6JWdMQtg"
      },
      "execution_count": null,
      "outputs": []
    },
    {
      "cell_type": "code",
      "source": [
        "#saida\n",
        "print(\"A área do Retangulo é: \", area)"
      ],
      "metadata": {
        "colab": {
          "base_uri": "https://localhost:8080/"
        },
        "id": "-rWFY5GIMj5_",
        "outputId": "1bc19dc8-e683-4bc0-ca44-64c43eb11a5c"
      },
      "execution_count": null,
      "outputs": [
        {
          "output_type": "stream",
          "name": "stdout",
          "text": [
            "A área do Retangulo é:  15.0\n"
          ]
        }
      ]
    },
    {
      "cell_type": "markdown",
      "source": [
        "### Area do Triângulo Retângulo - Areat = (b*h)/2"
      ],
      "metadata": {
        "id": "vndFcTlzNMC6"
      }
    },
    {
      "cell_type": "code",
      "source": [
        "#entrada\n",
        "base = float(input(\"digite a base do triangulo retangulo\"))\n",
        "alt = float(input(\"digite a altura do triangulo retangulo\"))"
      ],
      "metadata": {
        "colab": {
          "base_uri": "https://localhost:8080/"
        },
        "id": "3WSGhESlMimQ",
        "outputId": "86208b58-ad82-4ceb-f23d-25efe0c7d17a"
      },
      "execution_count": null,
      "outputs": [
        {
          "name": "stdout",
          "output_type": "stream",
          "text": [
            "digite a base do triangulo retangulo2\n",
            "digite a altura do triangulo retangulo4\n"
          ]
        }
      ]
    },
    {
      "cell_type": "code",
      "source": [
        "#processamento\n",
        "area = base*alt/2"
      ],
      "metadata": {
        "id": "1ApML2WEOVGx"
      },
      "execution_count": null,
      "outputs": []
    },
    {
      "cell_type": "code",
      "source": [
        "#saida\n",
        "print(\"A área do triangulo retangulo é: \", area)"
      ],
      "metadata": {
        "colab": {
          "base_uri": "https://localhost:8080/"
        },
        "id": "ZQBmzlbqOhOx",
        "outputId": "31fc1589-001e-482f-8118-54f11cd13c82"
      },
      "execution_count": null,
      "outputs": [
        {
          "output_type": "stream",
          "name": "stdout",
          "text": [
            "A área do triangulo retangulo é:  4.0\n"
          ]
        }
      ]
    },
    {
      "cell_type": "markdown",
      "source": [
        "### Area do Trapézio"
      ],
      "metadata": {
        "id": "9SHbGNLWPZnI"
      }
    },
    {
      "cell_type": "code",
      "source": [
        "#entrada\n",
        "base = float(input(\"digite a base do trapezio\"))\n",
        "baseb = float(input(\"digite a base do trapezio\"))\n",
        "alt = float(input(\"digite a altura do trapezio\"))"
      ],
      "metadata": {
        "colab": {
          "base_uri": "https://localhost:8080/"
        },
        "id": "fs0Bz2eJQWQi",
        "outputId": "e1237b7c-e34b-45f3-ca46-777c29851d3c"
      },
      "execution_count": null,
      "outputs": [
        {
          "name": "stdout",
          "output_type": "stream",
          "text": [
            "digite a base do trapezio2\n",
            "digite a base do trapezio4\n",
            "digite a altura do trapezio6\n"
          ]
        }
      ]
    },
    {
      "cell_type": "code",
      "source": [
        "#processamento\n",
        "area = (base+baseb) *alt/2"
      ],
      "metadata": {
        "id": "oIeHMW7BRpem"
      },
      "execution_count": null,
      "outputs": []
    },
    {
      "cell_type": "code",
      "source": [
        "#saida\n",
        "print(\"A área do trapezio é: \", area)"
      ],
      "metadata": {
        "colab": {
          "base_uri": "https://localhost:8080/"
        },
        "id": "Vsk8BzgVSFde",
        "outputId": "cbee011a-663f-46f1-e626-045649df321d"
      },
      "execution_count": null,
      "outputs": [
        {
          "output_type": "stream",
          "name": "stdout",
          "text": [
            "A área do trapezio é:  14.0\n"
          ]
        }
      ]
    },
    {
      "cell_type": "markdown",
      "source": [
        "### Quantos Azulejos Vou Utilizar"
      ],
      "metadata": {
        "id": "ttduKoRKTF2w"
      }
    },
    {
      "cell_type": "code",
      "source": [
        "#entrada\n",
        "basepa = float(input(\"digite a base da parede em metros: \"))\n",
        "altapa = float(input(\"digite a altura da parede em metros: \"))\n",
        "baseazul = float(input(\"digite a base azulejo em centimetros: \"))\n",
        "altazul = float(input(\"digite a altura azulejo em centimetros: \"))"
      ],
      "metadata": {
        "id": "Vw7blBR7UgIA"
      },
      "execution_count": null,
      "outputs": []
    },
    {
      "cell_type": "code",
      "source": [
        "#processamento\n",
        "areaparede = basepa*altpa\n",
        "areaazul = baseazul = baseazul*altzul\n",
        "areaazulconvert = areaazul/100\n",
        "totalazul = areaparede/areaazulconvert"
      ],
      "metadata": {
        "id": "JlDMPluOVi0I"
      },
      "execution_count": null,
      "outputs": []
    },
    {
      "cell_type": "code",
      "source": [
        "#saida\n",
        "print(\"você precisará de \", totalazul, \" azulejos!\")"
      ],
      "metadata": {
        "id": "9qDM1APeA6tt"
      },
      "execution_count": null,
      "outputs": []
    }
  ]
}