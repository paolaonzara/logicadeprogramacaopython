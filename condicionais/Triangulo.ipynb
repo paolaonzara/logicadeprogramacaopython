{
  "nbformat": 4,
  "nbformat_minor": 0,
  "metadata": {
    "colab": {
      "provenance": [],
      "authorship_tag": "ABX9TyOJ+PAzZiZ2CiH/zSxPHLV9",
      "include_colab_link": true
    },
    "kernelspec": {
      "name": "python3",
      "display_name": "Python 3"
    },
    "language_info": {
      "name": "python"
    }
  },
  "cells": [
    {
      "cell_type": "markdown",
      "metadata": {
        "id": "view-in-github",
        "colab_type": "text"
      },
      "source": [
        "<a href=\"https://colab.research.google.com/github/paolaonzara/logicadeprogramacaopython/blob/main/condicionais/Triangulo.ipynb\" target=\"_parent\"><img src=\"https://colab.research.google.com/assets/colab-badge.svg\" alt=\"Open In Colab\"/></a>"
      ]
    },
    {
      "cell_type": "code",
      "execution_count": null,
      "metadata": {
        "id": "6U5gW_y-SbmK"
      },
      "outputs": [],
      "source": []
    },
    {
      "cell_type": "markdown",
      "source": [
        "#Triangulo"
      ],
      "metadata": {
        "id": "RDHNd9CLSgE9"
      }
    },
    {
      "cell_type": "code",
      "source": [
        "#entrada\n",
        "a = float(input(\"Digite primeira area do triangulo: \"))\n",
        "b = float(input(\"Digite segunda area do triangulo: \"))\n",
        "c = float(input(\"Digite terceira area do triangulo: \"))\n",
        "\n",
        "#processamento\n",
        "triangulo = (a<b+c) and (b<a+c) and (c<a+b)\n",
        "equilatero= (a==b==c)\n",
        "isoxilis = (a==b!=c) or (a==c!=b) or (b==c!=a) or (b==a!=c) or (c==a!=b) or (c==b!=a)\n",
        "escaleno = (a!=b) and (a!=c) and (b!=c) and (b!=a) and (c!=a) and (c!=b)\n",
        "#saida\n",
        "print(triangulo)\n",
        "print( equilatero )\n",
        "print(isoxilis)\n",
        "print(escaleno)"
      ],
      "metadata": {
        "colab": {
          "base_uri": "https://localhost:8080/"
        },
        "id": "4gtEh9pWSlZM",
        "outputId": "cd1b5163-d0ba-4b53-fc83-af2ffe59725c"
      },
      "execution_count": null,
      "outputs": [
        {
          "output_type": "stream",
          "name": "stdout",
          "text": [
            "Digite primeira area do triangulo: 2\n",
            "Digite segunda area do triangulo: 2\n",
            "Digite terceira area do triangulo: 2\n",
            "True\n",
            "True\n",
            "False\n",
            "False\n"
          ]
        }
      ]
    }
  ]
}